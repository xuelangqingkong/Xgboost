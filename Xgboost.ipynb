{
 "cells": [
  {
   "cell_type": "code",
   "execution_count": 4,
   "id": "b92990f0",
   "metadata": {},
   "outputs": [],
   "source": [
    "import xgboost as xgb\n",
    "import pandas as pd\n",
    "import numpy as np\n",
    "import os,re,sys"
   ]
  },
  {
   "cell_type": "markdown",
   "id": "d7fac74a",
   "metadata": {},
   "source": [
    "<a class=\"anchor\" id=\"0.1\"></a>\n",
    "# **Table of Contents**\n",
    "\n",
    "\n",
    "1.\t[data load and preprocess](#1)\n",
    "2.\t[Model preparation](#2)\n",
    "3.\t[Build Models](#3)\n",
    "4.\t[check performance](#4)"
   ]
  },
  {
   "cell_type": "markdown",
   "id": "4e0010b8",
   "metadata": {},
   "source": [
    "### **1. data load and preprocess**<a class=\"anchor\" id=\"1\"></a>\n",
    "[Table of Contents](#0.1)"
   ]
  },
  {
   "cell_type": "markdown",
   "id": "50c9571f",
   "metadata": {},
   "source": [
    "#### 1.1 config data path (change the location)"
   ]
  },
  {
   "cell_type": "code",
   "execution_count": 5,
   "id": "4f49853e",
   "metadata": {},
   "outputs": [],
   "source": [
    "path_data = r'C:\\Users\\xiaoyaohou\\Documents\\Aquant\\DEMO\\Xgboost'  \n",
    "file_data = 'Random Price Dataset Trial Assignment.xlsx'\n",
    "sheet_name= 'Raw data'"
   ]
  },
  {
   "cell_type": "markdown",
   "id": "b3ad4ad0",
   "metadata": {},
   "source": [
    "#### 1.2 read data sheet of the excel file (need to install openpyxl [pip install openpyxl] )"
   ]
  },
  {
   "cell_type": "code",
   "execution_count": 6,
   "id": "ee2a0852",
   "metadata": {},
   "outputs": [],
   "source": [
    "df_file = pd.read_excel(os.path.join(path_data, file_data), sheet_name = sheet_name)"
   ]
  },
  {
   "cell_type": "code",
   "execution_count": 7,
   "id": "e15cf672",
   "metadata": {},
   "outputs": [
    {
     "data": {
      "text/html": [
       "<div>\n",
       "<style scoped>\n",
       "    .dataframe tbody tr th:only-of-type {\n",
       "        vertical-align: middle;\n",
       "    }\n",
       "\n",
       "    .dataframe tbody tr th {\n",
       "        vertical-align: top;\n",
       "    }\n",
       "\n",
       "    .dataframe thead th {\n",
       "        text-align: right;\n",
       "    }\n",
       "</style>\n",
       "<table border=\"1\" class=\"dataframe\">\n",
       "  <thead>\n",
       "    <tr style=\"text-align: right;\">\n",
       "      <th></th>\n",
       "      <th>Date</th>\n",
       "      <th>Domestic Market (Contract) Blow Molding, Low</th>\n",
       "      <th>Spot/Export Blow Molding</th>\n",
       "      <th>Spot, Domestic</th>\n",
       "      <th>WTISPLC</th>\n",
       "      <th>MCOILBRENTEU</th>\n",
       "      <th>GASREGM</th>\n",
       "      <th>IMPCH</th>\n",
       "      <th>EXPCH</th>\n",
       "      <th>PRUBBUSDM</th>\n",
       "      <th>...</th>\n",
       "      <th>Russia_import</th>\n",
       "      <th>South_Africa_import</th>\n",
       "      <th>Turkey_import</th>\n",
       "      <th>Brazil_import</th>\n",
       "      <th>France_import</th>\n",
       "      <th>Germeny_import</th>\n",
       "      <th>United Kingdome_import</th>\n",
       "      <th>China_import</th>\n",
       "      <th>Japan_import</th>\n",
       "      <th>South_korea_import</th>\n",
       "    </tr>\n",
       "  </thead>\n",
       "  <tbody>\n",
       "    <tr>\n",
       "      <th>0</th>\n",
       "      <td>2000-01-01</td>\n",
       "      <td>41.0</td>\n",
       "      <td>NaN</td>\n",
       "      <td>NaN</td>\n",
       "      <td>27.18</td>\n",
       "      <td>25.51</td>\n",
       "      <td>1.289</td>\n",
       "      <td>6902.1</td>\n",
       "      <td>863.1</td>\n",
       "      <td>29.207387</td>\n",
       "      <td>...</td>\n",
       "      <td>NaN</td>\n",
       "      <td>NaN</td>\n",
       "      <td>6833222.0</td>\n",
       "      <td>2649293.0</td>\n",
       "      <td>35239920.0</td>\n",
       "      <td>NaN</td>\n",
       "      <td>NaN</td>\n",
       "      <td>NaN</td>\n",
       "      <td>NaN</td>\n",
       "      <td>NaN</td>\n",
       "    </tr>\n",
       "    <tr>\n",
       "      <th>1</th>\n",
       "      <td>2000-02-01</td>\n",
       "      <td>41.0</td>\n",
       "      <td>NaN</td>\n",
       "      <td>NaN</td>\n",
       "      <td>29.35</td>\n",
       "      <td>27.78</td>\n",
       "      <td>1.377</td>\n",
       "      <td>6584.4</td>\n",
       "      <td>972.7</td>\n",
       "      <td>33.391099</td>\n",
       "      <td>...</td>\n",
       "      <td>NaN</td>\n",
       "      <td>NaN</td>\n",
       "      <td>5647987.0</td>\n",
       "      <td>2787667.0</td>\n",
       "      <td>36716752.0</td>\n",
       "      <td>NaN</td>\n",
       "      <td>NaN</td>\n",
       "      <td>NaN</td>\n",
       "      <td>NaN</td>\n",
       "      <td>NaN</td>\n",
       "    </tr>\n",
       "    <tr>\n",
       "      <th>2</th>\n",
       "      <td>2000-03-01</td>\n",
       "      <td>45.0</td>\n",
       "      <td>NaN</td>\n",
       "      <td>NaN</td>\n",
       "      <td>29.89</td>\n",
       "      <td>27.49</td>\n",
       "      <td>1.516</td>\n",
       "      <td>6424.1</td>\n",
       "      <td>1330.5</td>\n",
       "      <td>30.941913</td>\n",
       "      <td>...</td>\n",
       "      <td>NaN</td>\n",
       "      <td>NaN</td>\n",
       "      <td>6721125.0</td>\n",
       "      <td>4692701.0</td>\n",
       "      <td>45144561.0</td>\n",
       "      <td>NaN</td>\n",
       "      <td>NaN</td>\n",
       "      <td>NaN</td>\n",
       "      <td>NaN</td>\n",
       "      <td>NaN</td>\n",
       "    </tr>\n",
       "    <tr>\n",
       "      <th>3</th>\n",
       "      <td>2000-04-01</td>\n",
       "      <td>47.0</td>\n",
       "      <td>NaN</td>\n",
       "      <td>NaN</td>\n",
       "      <td>25.74</td>\n",
       "      <td>22.76</td>\n",
       "      <td>1.465</td>\n",
       "      <td>7070.5</td>\n",
       "      <td>1227.5</td>\n",
       "      <td>31.930148</td>\n",
       "      <td>...</td>\n",
       "      <td>NaN</td>\n",
       "      <td>NaN</td>\n",
       "      <td>7169182.0</td>\n",
       "      <td>2565068.0</td>\n",
       "      <td>32240349.0</td>\n",
       "      <td>NaN</td>\n",
       "      <td>NaN</td>\n",
       "      <td>NaN</td>\n",
       "      <td>NaN</td>\n",
       "      <td>NaN</td>\n",
       "    </tr>\n",
       "    <tr>\n",
       "      <th>4</th>\n",
       "      <td>2000-05-01</td>\n",
       "      <td>47.0</td>\n",
       "      <td>NaN</td>\n",
       "      <td>NaN</td>\n",
       "      <td>28.78</td>\n",
       "      <td>27.74</td>\n",
       "      <td>1.487</td>\n",
       "      <td>7850.2</td>\n",
       "      <td>1526.3</td>\n",
       "      <td>31.201702</td>\n",
       "      <td>...</td>\n",
       "      <td>NaN</td>\n",
       "      <td>NaN</td>\n",
       "      <td>10466333.0</td>\n",
       "      <td>4671325.0</td>\n",
       "      <td>29351633.0</td>\n",
       "      <td>NaN</td>\n",
       "      <td>NaN</td>\n",
       "      <td>NaN</td>\n",
       "      <td>NaN</td>\n",
       "      <td>NaN</td>\n",
       "    </tr>\n",
       "  </tbody>\n",
       "</table>\n",
       "<p>5 rows × 50 columns</p>\n",
       "</div>"
      ],
      "text/plain": [
       "        Date  Domestic Market (Contract) Blow Molding, Low  \\\n",
       "0 2000-01-01                                          41.0   \n",
       "1 2000-02-01                                          41.0   \n",
       "2 2000-03-01                                          45.0   \n",
       "3 2000-04-01                                          47.0   \n",
       "4 2000-05-01                                          47.0   \n",
       "\n",
       "   Spot/Export Blow Molding  Spot, Domestic  WTISPLC  MCOILBRENTEU  GASREGM  \\\n",
       "0                       NaN             NaN    27.18         25.51    1.289   \n",
       "1                       NaN             NaN    29.35         27.78    1.377   \n",
       "2                       NaN             NaN    29.89         27.49    1.516   \n",
       "3                       NaN             NaN    25.74         22.76    1.465   \n",
       "4                       NaN             NaN    28.78         27.74    1.487   \n",
       "\n",
       "    IMPCH   EXPCH  PRUBBUSDM  ...  Russia_import  South_Africa_import  \\\n",
       "0  6902.1   863.1  29.207387  ...            NaN                  NaN   \n",
       "1  6584.4   972.7  33.391099  ...            NaN                  NaN   \n",
       "2  6424.1  1330.5  30.941913  ...            NaN                  NaN   \n",
       "3  7070.5  1227.5  31.930148  ...            NaN                  NaN   \n",
       "4  7850.2  1526.3  31.201702  ...            NaN                  NaN   \n",
       "\n",
       "   Turkey_import  Brazil_import  France_import  Germeny_import  \\\n",
       "0      6833222.0      2649293.0     35239920.0             NaN   \n",
       "1      5647987.0      2787667.0     36716752.0             NaN   \n",
       "2      6721125.0      4692701.0     45144561.0             NaN   \n",
       "3      7169182.0      2565068.0     32240349.0             NaN   \n",
       "4     10466333.0      4671325.0     29351633.0             NaN   \n",
       "\n",
       "   United Kingdome_import  China_import  Japan_import  South_korea_import  \n",
       "0                     NaN           NaN           NaN                 NaN  \n",
       "1                     NaN           NaN           NaN                 NaN  \n",
       "2                     NaN           NaN           NaN                 NaN  \n",
       "3                     NaN           NaN           NaN                 NaN  \n",
       "4                     NaN           NaN           NaN                 NaN  \n",
       "\n",
       "[5 rows x 50 columns]"
      ]
     },
     "execution_count": 7,
     "metadata": {},
     "output_type": "execute_result"
    }
   ],
   "source": [
    "df_file.head()"
   ]
  },
  {
   "cell_type": "markdown",
   "id": "3674e26d",
   "metadata": {},
   "source": [
    "#### 1.3 check data distribution and range"
   ]
  },
  {
   "cell_type": "code",
   "execution_count": 8,
   "id": "190c7257",
   "metadata": {},
   "outputs": [
    {
     "data": {
      "text/html": [
       "<div>\n",
       "<style scoped>\n",
       "    .dataframe tbody tr th:only-of-type {\n",
       "        vertical-align: middle;\n",
       "    }\n",
       "\n",
       "    .dataframe tbody tr th {\n",
       "        vertical-align: top;\n",
       "    }\n",
       "\n",
       "    .dataframe thead th {\n",
       "        text-align: right;\n",
       "    }\n",
       "</style>\n",
       "<table border=\"1\" class=\"dataframe\">\n",
       "  <thead>\n",
       "    <tr style=\"text-align: right;\">\n",
       "      <th></th>\n",
       "      <th>Domestic Market (Contract) Blow Molding, Low</th>\n",
       "      <th>Spot/Export Blow Molding</th>\n",
       "      <th>Spot, Domestic</th>\n",
       "      <th>WTISPLC</th>\n",
       "      <th>MCOILBRENTEU</th>\n",
       "      <th>GASREGM</th>\n",
       "      <th>IMPCH</th>\n",
       "      <th>EXPCH</th>\n",
       "      <th>PRUBBUSDM</th>\n",
       "      <th>WPUFD4111</th>\n",
       "      <th>...</th>\n",
       "      <th>Russia_import</th>\n",
       "      <th>South_Africa_import</th>\n",
       "      <th>Turkey_import</th>\n",
       "      <th>Brazil_import</th>\n",
       "      <th>France_import</th>\n",
       "      <th>Germeny_import</th>\n",
       "      <th>United Kingdome_import</th>\n",
       "      <th>China_import</th>\n",
       "      <th>Japan_import</th>\n",
       "      <th>South_korea_import</th>\n",
       "    </tr>\n",
       "  </thead>\n",
       "  <tbody>\n",
       "    <tr>\n",
       "      <th>count</th>\n",
       "      <td>276.000000</td>\n",
       "      <td>185.000000</td>\n",
       "      <td>125.000000</td>\n",
       "      <td>276.000000</td>\n",
       "      <td>276.000000</td>\n",
       "      <td>276.000000</td>\n",
       "      <td>275.000000</td>\n",
       "      <td>275.000000</td>\n",
       "      <td>275.000000</td>\n",
       "      <td>275.000000</td>\n",
       "      <td>...</td>\n",
       "      <td>1.080000e+02</td>\n",
       "      <td>1.540000e+02</td>\n",
       "      <td>1.680000e+02</td>\n",
       "      <td>1.680000e+02</td>\n",
       "      <td>2.400000e+02</td>\n",
       "      <td>1.780000e+02</td>\n",
       "      <td>1.540000e+02</td>\n",
       "      <td>1.080000e+02</td>\n",
       "      <td>1.530000e+02</td>\n",
       "      <td>0.0</td>\n",
       "    </tr>\n",
       "    <tr>\n",
       "      <th>mean</th>\n",
       "      <td>72.371377</td>\n",
       "      <td>57.979730</td>\n",
       "      <td>60.396000</td>\n",
       "      <td>62.505688</td>\n",
       "      <td>65.403768</td>\n",
       "      <td>2.570399</td>\n",
       "      <td>29591.894215</td>\n",
       "      <td>7176.495470</td>\n",
       "      <td>89.579463</td>\n",
       "      <td>185.978265</td>\n",
       "      <td>...</td>\n",
       "      <td>3.178024e+07</td>\n",
       "      <td>1.201470e+07</td>\n",
       "      <td>4.689177e+07</td>\n",
       "      <td>1.877743e+07</td>\n",
       "      <td>5.951620e+07</td>\n",
       "      <td>1.213508e+08</td>\n",
       "      <td>6.680952e+07</td>\n",
       "      <td>5.684049e+08</td>\n",
       "      <td>1.751055e+07</td>\n",
       "      <td>NaN</td>\n",
       "    </tr>\n",
       "    <tr>\n",
       "      <th>std</th>\n",
       "      <td>19.415335</td>\n",
       "      <td>13.116195</td>\n",
       "      <td>12.647484</td>\n",
       "      <td>26.065922</td>\n",
       "      <td>29.612183</td>\n",
       "      <td>0.780782</td>\n",
       "      <td>12303.526704</td>\n",
       "      <td>3764.254058</td>\n",
       "      <td>46.390987</td>\n",
       "      <td>31.712684</td>\n",
       "      <td>...</td>\n",
       "      <td>1.237663e+07</td>\n",
       "      <td>4.129202e+06</td>\n",
       "      <td>3.325299e+07</td>\n",
       "      <td>1.343147e+07</td>\n",
       "      <td>2.303410e+07</td>\n",
       "      <td>2.341668e+07</td>\n",
       "      <td>1.284275e+07</td>\n",
       "      <td>1.436171e+08</td>\n",
       "      <td>5.951273e+06</td>\n",
       "      <td>NaN</td>\n",
       "    </tr>\n",
       "    <tr>\n",
       "      <th>min</th>\n",
       "      <td>32.000000</td>\n",
       "      <td>28.000000</td>\n",
       "      <td>33.250000</td>\n",
       "      <td>16.550000</td>\n",
       "      <td>18.380000</td>\n",
       "      <td>1.086000</td>\n",
       "      <td>6375.600000</td>\n",
       "      <td>863.100000</td>\n",
       "      <td>22.119907</td>\n",
       "      <td>135.000000</td>\n",
       "      <td>...</td>\n",
       "      <td>1.222930e+07</td>\n",
       "      <td>4.023189e+06</td>\n",
       "      <td>5.210434e+06</td>\n",
       "      <td>2.565068e+06</td>\n",
       "      <td>1.864643e+06</td>\n",
       "      <td>6.521024e+07</td>\n",
       "      <td>3.946846e+07</td>\n",
       "      <td>2.790990e+08</td>\n",
       "      <td>2.288267e+06</td>\n",
       "      <td>NaN</td>\n",
       "    </tr>\n",
       "    <tr>\n",
       "      <th>25%</th>\n",
       "      <td>57.750000</td>\n",
       "      <td>49.000000</td>\n",
       "      <td>53.000000</td>\n",
       "      <td>41.000000</td>\n",
       "      <td>42.727500</td>\n",
       "      <td>1.982000</td>\n",
       "      <td>20508.605662</td>\n",
       "      <td>3644.347996</td>\n",
       "      <td>60.831129</td>\n",
       "      <td>155.650000</td>\n",
       "      <td>...</td>\n",
       "      <td>2.197529e+07</td>\n",
       "      <td>9.039823e+06</td>\n",
       "      <td>1.301532e+07</td>\n",
       "      <td>7.166384e+06</td>\n",
       "      <td>4.257762e+07</td>\n",
       "      <td>1.052432e+08</td>\n",
       "      <td>5.695974e+07</td>\n",
       "      <td>4.541179e+08</td>\n",
       "      <td>1.415546e+07</td>\n",
       "      <td>NaN</td>\n",
       "    </tr>\n",
       "    <tr>\n",
       "      <th>50%</th>\n",
       "      <td>73.000000</td>\n",
       "      <td>59.000000</td>\n",
       "      <td>59.000000</td>\n",
       "      <td>59.280000</td>\n",
       "      <td>62.770000</td>\n",
       "      <td>2.555000</td>\n",
       "      <td>31563.988155</td>\n",
       "      <td>8080.515063</td>\n",
       "      <td>78.408574</td>\n",
       "      <td>193.400000</td>\n",
       "      <td>...</td>\n",
       "      <td>2.905798e+07</td>\n",
       "      <td>1.148613e+07</td>\n",
       "      <td>4.411321e+07</td>\n",
       "      <td>1.302269e+07</td>\n",
       "      <td>6.296210e+07</td>\n",
       "      <td>1.211287e+08</td>\n",
       "      <td>6.562112e+07</td>\n",
       "      <td>5.796089e+08</td>\n",
       "      <td>1.701399e+07</td>\n",
       "      <td>NaN</td>\n",
       "    </tr>\n",
       "    <tr>\n",
       "      <th>75%</th>\n",
       "      <td>86.000000</td>\n",
       "      <td>67.000000</td>\n",
       "      <td>67.500000</td>\n",
       "      <td>84.170000</td>\n",
       "      <td>85.587500</td>\n",
       "      <td>3.149000</td>\n",
       "      <td>39575.405922</td>\n",
       "      <td>9741.468033</td>\n",
       "      <td>107.593858</td>\n",
       "      <td>208.600000</td>\n",
       "      <td>...</td>\n",
       "      <td>3.983874e+07</td>\n",
       "      <td>1.473999e+07</td>\n",
       "      <td>7.409663e+07</td>\n",
       "      <td>3.050157e+07</td>\n",
       "      <td>7.249226e+07</td>\n",
       "      <td>1.364749e+08</td>\n",
       "      <td>7.409497e+07</td>\n",
       "      <td>6.691375e+08</td>\n",
       "      <td>2.170501e+07</td>\n",
       "      <td>NaN</td>\n",
       "    </tr>\n",
       "    <tr>\n",
       "      <th>max</th>\n",
       "      <td>108.000000</td>\n",
       "      <td>92.000000</td>\n",
       "      <td>100.750000</td>\n",
       "      <td>133.930000</td>\n",
       "      <td>132.720000</td>\n",
       "      <td>4.929000</td>\n",
       "      <td>52081.070497</td>\n",
       "      <td>16678.510021</td>\n",
       "      <td>280.787619</td>\n",
       "      <td>278.025000</td>\n",
       "      <td>...</td>\n",
       "      <td>7.870940e+07</td>\n",
       "      <td>2.417119e+07</td>\n",
       "      <td>1.234086e+08</td>\n",
       "      <td>5.262447e+07</td>\n",
       "      <td>1.194858e+08</td>\n",
       "      <td>1.866896e+08</td>\n",
       "      <td>1.094211e+08</td>\n",
       "      <td>8.865592e+08</td>\n",
       "      <td>2.943658e+07</td>\n",
       "      <td>NaN</td>\n",
       "    </tr>\n",
       "  </tbody>\n",
       "</table>\n",
       "<p>8 rows × 47 columns</p>\n",
       "</div>"
      ],
      "text/plain": [
       "       Domestic Market (Contract) Blow Molding, Low  Spot/Export Blow Molding  \\\n",
       "count                                    276.000000                185.000000   \n",
       "mean                                      72.371377                 57.979730   \n",
       "std                                       19.415335                 13.116195   \n",
       "min                                       32.000000                 28.000000   \n",
       "25%                                       57.750000                 49.000000   \n",
       "50%                                       73.000000                 59.000000   \n",
       "75%                                       86.000000                 67.000000   \n",
       "max                                      108.000000                 92.000000   \n",
       "\n",
       "       Spot, Domestic     WTISPLC  MCOILBRENTEU     GASREGM         IMPCH  \\\n",
       "count      125.000000  276.000000    276.000000  276.000000    275.000000   \n",
       "mean        60.396000   62.505688     65.403768    2.570399  29591.894215   \n",
       "std         12.647484   26.065922     29.612183    0.780782  12303.526704   \n",
       "min         33.250000   16.550000     18.380000    1.086000   6375.600000   \n",
       "25%         53.000000   41.000000     42.727500    1.982000  20508.605662   \n",
       "50%         59.000000   59.280000     62.770000    2.555000  31563.988155   \n",
       "75%         67.500000   84.170000     85.587500    3.149000  39575.405922   \n",
       "max        100.750000  133.930000    132.720000    4.929000  52081.070497   \n",
       "\n",
       "              EXPCH   PRUBBUSDM   WPUFD4111  ...  Russia_import  \\\n",
       "count    275.000000  275.000000  275.000000  ...   1.080000e+02   \n",
       "mean    7176.495470   89.579463  185.978265  ...   3.178024e+07   \n",
       "std     3764.254058   46.390987   31.712684  ...   1.237663e+07   \n",
       "min      863.100000   22.119907  135.000000  ...   1.222930e+07   \n",
       "25%     3644.347996   60.831129  155.650000  ...   2.197529e+07   \n",
       "50%     8080.515063   78.408574  193.400000  ...   2.905798e+07   \n",
       "75%     9741.468033  107.593858  208.600000  ...   3.983874e+07   \n",
       "max    16678.510021  280.787619  278.025000  ...   7.870940e+07   \n",
       "\n",
       "       South_Africa_import  Turkey_import  Brazil_import  France_import  \\\n",
       "count         1.540000e+02   1.680000e+02   1.680000e+02   2.400000e+02   \n",
       "mean          1.201470e+07   4.689177e+07   1.877743e+07   5.951620e+07   \n",
       "std           4.129202e+06   3.325299e+07   1.343147e+07   2.303410e+07   \n",
       "min           4.023189e+06   5.210434e+06   2.565068e+06   1.864643e+06   \n",
       "25%           9.039823e+06   1.301532e+07   7.166384e+06   4.257762e+07   \n",
       "50%           1.148613e+07   4.411321e+07   1.302269e+07   6.296210e+07   \n",
       "75%           1.473999e+07   7.409663e+07   3.050157e+07   7.249226e+07   \n",
       "max           2.417119e+07   1.234086e+08   5.262447e+07   1.194858e+08   \n",
       "\n",
       "       Germeny_import  United Kingdome_import  China_import  Japan_import  \\\n",
       "count    1.780000e+02            1.540000e+02  1.080000e+02  1.530000e+02   \n",
       "mean     1.213508e+08            6.680952e+07  5.684049e+08  1.751055e+07   \n",
       "std      2.341668e+07            1.284275e+07  1.436171e+08  5.951273e+06   \n",
       "min      6.521024e+07            3.946846e+07  2.790990e+08  2.288267e+06   \n",
       "25%      1.052432e+08            5.695974e+07  4.541179e+08  1.415546e+07   \n",
       "50%      1.211287e+08            6.562112e+07  5.796089e+08  1.701399e+07   \n",
       "75%      1.364749e+08            7.409497e+07  6.691375e+08  2.170501e+07   \n",
       "max      1.866896e+08            1.094211e+08  8.865592e+08  2.943658e+07   \n",
       "\n",
       "       South_korea_import  \n",
       "count                 0.0  \n",
       "mean                  NaN  \n",
       "std                   NaN  \n",
       "min                   NaN  \n",
       "25%                   NaN  \n",
       "50%                   NaN  \n",
       "75%                   NaN  \n",
       "max                   NaN  \n",
       "\n",
       "[8 rows x 47 columns]"
      ]
     },
     "execution_count": 8,
     "metadata": {},
     "output_type": "execute_result"
    }
   ],
   "source": [
    "df_file.describe()"
   ]
  },
  {
   "cell_type": "code",
   "execution_count": 9,
   "id": "2730dc26",
   "metadata": {},
   "outputs": [
    {
     "name": "stdout",
     "output_type": "stream",
     "text": [
      "['Date', 'Domestic Market (Contract) Blow Molding, Low', 'Spot/Export Blow Molding', 'Spot, Domestic', 'WTISPLC', 'MCOILBRENTEU', 'GASREGM', 'IMPCH', 'EXPCH', 'PRUBBUSDM', 'WPUFD4111', 'PCU325211325211', 'PCU32611332611301', 'WPU0915021625', 'PCU3252132521', 'MHHNGSP', 'WPU072205011', 'PCU32611132611115', 'PCU32611332611301.1', 'PCU32611132611112', 'WPU0915021622', 'Producer Price Index by Industry: Plastics Material and Resins Manufacturing: Thermoplastic Resins and Plastics Materials ', 'Australia _export', 'Canada_export', 'Saudi_export', 'Usa_export', 'India_export', 'Russia_export', 'South_Africa_export', 'Turkey', 'Brazil', 'France_export', 'Germeny_export', 'United Kingdome_export', 'China_export', 'Australia _import', 'Canada_import', 'Saudi_import', 'Usa_import', 'India_import', 'Russia_import', 'South_Africa_import', 'Turkey_import', 'Brazil_import', 'France_import', 'Germeny_import', 'United Kingdome_import', 'China_import', 'Japan_import', 'South_korea_import']\n"
     ]
    }
   ],
   "source": [
    "print(df_file.columns.tolist())"
   ]
  },
  {
   "cell_type": "markdown",
   "id": "d8b9b948",
   "metadata": {},
   "source": [
    "#### 1.4 missing rate check"
   ]
  },
  {
   "cell_type": "code",
   "execution_count": 10,
   "id": "7f936afa",
   "metadata": {},
   "outputs": [],
   "source": [
    "def missing_zero_values_table(df):\n",
    "    mis_val = df.isnull().sum()\n",
    "    mis_val_percent = 100 * df.isnull().sum() / len(df)\n",
    "    mz_table = pd.concat([ mis_val, mis_val_percent], axis=1)\n",
    "    mz_table = mz_table.rename(\n",
    "    columns = {0: 'Missing Values', 1 : '% of Total Values'})\n",
    "    mz_table['Data Type'] = df.dtypes\n",
    "    mz_table = mz_table[\n",
    "        mz_table.iloc[:,0] != 0].sort_values(\n",
    "    '% of Total Values', ascending=False).round(1)\n",
    "    print (\"Your selected dataframe has \" + str(df.shape[1]) + \" columns and \" + str(df.shape[0]) + \" Rows.\\n\"      \n",
    "        \"There are \" + str(mz_table.shape[0]) +\n",
    "          \" columns that have missing values.\")\n",
    "    return mz_table"
   ]
  },
  {
   "cell_type": "code",
   "execution_count": 11,
   "id": "49e29d8e",
   "metadata": {},
   "outputs": [
    {
     "name": "stdout",
     "output_type": "stream",
     "text": [
      "Your selected dataframe has 50 columns and 276 Rows.\n",
      "There are 43 columns that have missing values.\n"
     ]
    }
   ],
   "source": [
    "df_rate_missing = missing_zero_values_table(df_file)"
   ]
  },
  {
   "cell_type": "code",
   "execution_count": 12,
   "id": "753cc701",
   "metadata": {},
   "outputs": [
    {
     "name": "stdout",
     "output_type": "stream",
     "text": [
      "                    Missing Values  % of Total Values Data Type\n",
      "South_korea_import             276              100.0   float64\n",
      "Saudi_export                   243               88.0    object\n",
      "Saudi_import                   243               88.0   float64\n",
      "Australia _export              238               86.2    object\n",
      "Russia_import                  168               60.9   float64\n"
     ]
    }
   ],
   "source": [
    "print(df_rate_missing.head())"
   ]
  },
  {
   "cell_type": "code",
   "execution_count": 13,
   "id": "437ab938",
   "metadata": {},
   "outputs": [],
   "source": [
    "ls_col_missing = df_rate_missing[df_rate_missing['% of Total Values'] > 50].index.tolist()"
   ]
  },
  {
   "cell_type": "code",
   "execution_count": 14,
   "id": "b6f3b631",
   "metadata": {},
   "outputs": [],
   "source": [
    "df_file_good =  df_file.drop(columns= ls_col_missing )"
   ]
  },
  {
   "cell_type": "markdown",
   "id": "8e380f93",
   "metadata": {},
   "source": [
    "#### 1.4 data preprocess"
   ]
  },
  {
   "cell_type": "code",
   "execution_count": 15,
   "id": "77826fad",
   "metadata": {},
   "outputs": [],
   "source": [
    "df_file_good.sort_values(by = 'Date', inplace = True)"
   ]
  },
  {
   "cell_type": "markdown",
   "id": "2b6614e6",
   "metadata": {},
   "source": [
    "### **2. Model preparation**<a class=\"anchor\" id=\"2\"></a>\n",
    "[Table of Contents](#0.1)"
   ]
  },
  {
   "cell_type": "markdown",
   "id": "8faca70e",
   "metadata": {},
   "source": [
    "#### 2.1 add target vars"
   ]
  },
  {
   "cell_type": "code",
   "execution_count": 16,
   "id": "dc5028f0",
   "metadata": {},
   "outputs": [],
   "source": [
    "var_target = 'Domestic Market (Contract) Blow Molding, Low'\n",
    "var_target_N1 = 'N1 - Domestic Market (Contract) Blow Molding, Low'"
   ]
  },
  {
   "cell_type": "code",
   "execution_count": 17,
   "id": "b497bc96",
   "metadata": {},
   "outputs": [],
   "source": [
    "df_file_good.loc[:, var_target_N1] = df_file_good[var_target].shift(-1)\n",
    "df_file_good = df_file_good.iloc[:-1, :]"
   ]
  },
  {
   "cell_type": "markdown",
   "id": "7e6de78d",
   "metadata": {},
   "source": [
    "#### 2.2 select potential feature list"
   ]
  },
  {
   "cell_type": "code",
   "execution_count": 18,
   "id": "4446589e",
   "metadata": {},
   "outputs": [],
   "source": [
    "ls_features = df_file_good.iloc[:, 2:-1].columns.tolist()"
   ]
  },
  {
   "cell_type": "code",
   "execution_count": 19,
   "id": "4c2c1346",
   "metadata": {},
   "outputs": [],
   "source": [
    "data_features = df_file_good[ls_features].to_numpy()"
   ]
  },
  {
   "cell_type": "code",
   "execution_count": 20,
   "id": "f81d8e9b",
   "metadata": {},
   "outputs": [],
   "source": [
    "data_target = df_file_good[var_target_N1].to_numpy()"
   ]
  },
  {
   "cell_type": "markdown",
   "id": "bfae52a3",
   "metadata": {},
   "source": [
    "### **3. Build Models**<a class=\"anchor\" id=\"3\"></a>\n",
    "[Table of Contents](#0.1)"
   ]
  },
  {
   "cell_type": "code",
   "execution_count": 21,
   "id": "c83df11b",
   "metadata": {},
   "outputs": [],
   "source": [
    "import xgboost as xgb\n",
    "from xgboost import plot_importance\n",
    "from matplotlib import pyplot as plt\n",
    "from sklearn.model_selection import train_test_split"
   ]
  },
  {
   "cell_type": "code",
   "execution_count": 38,
   "id": "714c247a",
   "metadata": {},
   "outputs": [],
   "source": [
    "x_train,x_test,y_train,y_test=train_test_split(data_features,data_target,test_size=0.2,random_state=0)\n",
    "xgb_train=xgb.DMatrix(x_train,label=y_train, feature_names = ls_features)\n",
    "xgb_test=xgb.DMatrix(x_test,label=y_test, feature_names = ls_features)"
   ]
  },
  {
   "cell_type": "code",
   "execution_count": 40,
   "id": "7d9de817",
   "metadata": {
    "scrolled": true
   },
   "outputs": [
    {
     "name": "stdout",
     "output_type": "stream",
     "text": [
      "[14:19:21] WARNING: C:\\buildkite-agent\\builds\\buildkite-windows-cpu-autoscaling-group-i-07593ffd91cd9da33-1\\xgboost\\xgboost-ci-windows\\src\\objective\\regression_obj.cu:213: reg:linear is now deprecated in favor of reg:squarederror.\n",
      "[0]\ttrain-rmse:67.73696\ttest-rmse:68.11134\n",
      "[1]\ttrain-rmse:61.74745\ttest-rmse:61.88752\n",
      "[2]\ttrain-rmse:56.36762\ttest-rmse:56.38040\n",
      "[3]\ttrain-rmse:51.38975\ttest-rmse:51.19661\n",
      "[4]\ttrain-rmse:46.93685\ttest-rmse:46.68635\n",
      "[5]\ttrain-rmse:42.88660\ttest-rmse:42.58390\n",
      "[6]\ttrain-rmse:39.22374\ttest-rmse:38.94482\n",
      "[7]\ttrain-rmse:35.89080\ttest-rmse:35.54819\n",
      "[8]\ttrain-rmse:32.85225\ttest-rmse:32.48084\n",
      "[9]\ttrain-rmse:30.05625\ttest-rmse:29.67994\n",
      "[10]\ttrain-rmse:27.51651\ttest-rmse:27.11655\n",
      "[11]\ttrain-rmse:25.25147\ttest-rmse:24.89901\n",
      "[12]\ttrain-rmse:23.18927\ttest-rmse:22.84712\n",
      "[13]\ttrain-rmse:21.33434\ttest-rmse:20.96970\n",
      "[14]\ttrain-rmse:19.63902\ttest-rmse:19.21328\n",
      "[15]\ttrain-rmse:18.09286\ttest-rmse:17.65371\n",
      "[16]\ttrain-rmse:16.70709\ttest-rmse:16.27592\n",
      "[17]\ttrain-rmse:15.41503\ttest-rmse:15.01526\n",
      "[18]\ttrain-rmse:14.26787\ttest-rmse:13.96777\n",
      "[19]\ttrain-rmse:13.25603\ttest-rmse:12.99523\n",
      "[20]\ttrain-rmse:12.27479\ttest-rmse:12.05244\n",
      "[21]\ttrain-rmse:11.41934\ttest-rmse:11.43660\n",
      "[22]\ttrain-rmse:10.62059\ttest-rmse:10.68374\n",
      "[23]\ttrain-rmse:9.88318\ttest-rmse:10.03773\n",
      "[24]\ttrain-rmse:9.23611\ttest-rmse:9.49999\n",
      "[25]\ttrain-rmse:8.62292\ttest-rmse:8.95919\n",
      "[26]\ttrain-rmse:8.06421\ttest-rmse:8.48766\n",
      "[27]\ttrain-rmse:7.54053\ttest-rmse:8.05211\n",
      "[28]\ttrain-rmse:7.07274\ttest-rmse:7.66608\n",
      "[29]\ttrain-rmse:6.61719\ttest-rmse:7.33174\n",
      "[30]\ttrain-rmse:6.22972\ttest-rmse:7.06691\n",
      "[31]\ttrain-rmse:5.86676\ttest-rmse:6.86435\n",
      "[32]\ttrain-rmse:5.52342\ttest-rmse:6.64937\n",
      "[33]\ttrain-rmse:5.23688\ttest-rmse:6.50178\n",
      "[34]\ttrain-rmse:4.97707\ttest-rmse:6.36389\n",
      "[35]\ttrain-rmse:4.72755\ttest-rmse:6.24830\n",
      "[36]\ttrain-rmse:4.49034\ttest-rmse:6.10965\n",
      "[37]\ttrain-rmse:4.29326\ttest-rmse:5.97948\n",
      "[38]\ttrain-rmse:4.08206\ttest-rmse:5.89364\n",
      "[39]\ttrain-rmse:3.89536\ttest-rmse:5.77996\n",
      "[40]\ttrain-rmse:3.72232\ttest-rmse:5.72068\n",
      "[41]\ttrain-rmse:3.56729\ttest-rmse:5.63883\n",
      "[42]\ttrain-rmse:3.42342\ttest-rmse:5.59113\n",
      "[43]\ttrain-rmse:3.29088\ttest-rmse:5.54152\n",
      "[44]\ttrain-rmse:3.15533\ttest-rmse:5.50518\n",
      "[45]\ttrain-rmse:3.02027\ttest-rmse:5.46054\n",
      "[46]\ttrain-rmse:2.90863\ttest-rmse:5.43756\n",
      "[47]\ttrain-rmse:2.79193\ttest-rmse:5.40627\n",
      "[48]\ttrain-rmse:2.68830\ttest-rmse:5.34907\n",
      "[49]\ttrain-rmse:2.59920\ttest-rmse:5.30374\n",
      "[50]\ttrain-rmse:2.51663\ttest-rmse:5.27058\n",
      "[51]\ttrain-rmse:2.44306\ttest-rmse:5.24242\n",
      "[52]\ttrain-rmse:2.37336\ttest-rmse:5.23710\n",
      "[53]\ttrain-rmse:2.30915\ttest-rmse:5.19555\n",
      "[54]\ttrain-rmse:2.24213\ttest-rmse:5.17320\n",
      "[55]\ttrain-rmse:2.17723\ttest-rmse:5.15407\n",
      "[56]\ttrain-rmse:2.10833\ttest-rmse:5.13283\n",
      "[57]\ttrain-rmse:2.04424\ttest-rmse:5.13351\n",
      "[58]\ttrain-rmse:1.98929\ttest-rmse:5.12925\n",
      "[59]\ttrain-rmse:1.93836\ttest-rmse:5.13785\n",
      "[60]\ttrain-rmse:1.88700\ttest-rmse:5.13752\n",
      "[61]\ttrain-rmse:1.82866\ttest-rmse:5.11912\n",
      "[62]\ttrain-rmse:1.78866\ttest-rmse:5.11291\n",
      "[63]\ttrain-rmse:1.74397\ttest-rmse:5.09812\n",
      "[64]\ttrain-rmse:1.70130\ttest-rmse:5.07880\n",
      "[65]\ttrain-rmse:1.66443\ttest-rmse:5.07689\n",
      "[66]\ttrain-rmse:1.62474\ttest-rmse:5.07772\n",
      "[67]\ttrain-rmse:1.58299\ttest-rmse:5.06822\n",
      "[68]\ttrain-rmse:1.54793\ttest-rmse:5.05597\n",
      "[69]\ttrain-rmse:1.51321\ttest-rmse:5.05166\n",
      "[70]\ttrain-rmse:1.47674\ttest-rmse:5.04644\n",
      "[71]\ttrain-rmse:1.44329\ttest-rmse:5.03575\n",
      "[72]\ttrain-rmse:1.42416\ttest-rmse:5.03964\n",
      "[73]\ttrain-rmse:1.39575\ttest-rmse:5.03289\n",
      "[74]\ttrain-rmse:1.35840\ttest-rmse:5.01499\n",
      "[75]\ttrain-rmse:1.33157\ttest-rmse:5.01288\n",
      "[76]\ttrain-rmse:1.30569\ttest-rmse:5.00297\n",
      "[77]\ttrain-rmse:1.27541\ttest-rmse:4.99105\n",
      "[78]\ttrain-rmse:1.25882\ttest-rmse:4.98701\n",
      "[79]\ttrain-rmse:1.23292\ttest-rmse:4.99166\n",
      "[80]\ttrain-rmse:1.21007\ttest-rmse:4.98479\n",
      "[81]\ttrain-rmse:1.19278\ttest-rmse:4.97322\n",
      "[82]\ttrain-rmse:1.16646\ttest-rmse:4.95828\n",
      "[83]\ttrain-rmse:1.15009\ttest-rmse:4.96018\n",
      "[84]\ttrain-rmse:1.13274\ttest-rmse:4.95263\n",
      "[85]\ttrain-rmse:1.10979\ttest-rmse:4.94459\n",
      "[86]\ttrain-rmse:1.08905\ttest-rmse:4.93982\n",
      "[87]\ttrain-rmse:1.07358\ttest-rmse:4.93019\n",
      "[88]\ttrain-rmse:1.05641\ttest-rmse:4.92751\n",
      "[89]\ttrain-rmse:1.04060\ttest-rmse:4.92220\n",
      "[90]\ttrain-rmse:1.03144\ttest-rmse:4.92297\n",
      "[91]\ttrain-rmse:1.01625\ttest-rmse:4.91635\n",
      "[92]\ttrain-rmse:0.99838\ttest-rmse:4.92322\n",
      "[93]\ttrain-rmse:0.98576\ttest-rmse:4.91601\n",
      "[94]\ttrain-rmse:0.96214\ttest-rmse:4.90985\n",
      "[95]\ttrain-rmse:0.94501\ttest-rmse:4.90506\n",
      "[96]\ttrain-rmse:0.93507\ttest-rmse:4.90682\n",
      "[97]\ttrain-rmse:0.92401\ttest-rmse:4.89919\n",
      "[98]\ttrain-rmse:0.91115\ttest-rmse:4.89933\n",
      "[99]\ttrain-rmse:0.89152\ttest-rmse:4.89446\n"
     ]
    }
   ],
   "source": [
    "params={\n",
    "    'booster':'gbtree',\n",
    "    'objective':'reg:linear',\n",
    "    'gamma':0.1,\n",
    "    'max_depth':6,\n",
    "    'lambda':10,\n",
    "    'subsample':0.8,\n",
    "    'eta':0.1\n",
    "}\n",
    "num_rounds=100\n",
    "watchlist=[(xgb_train,'train'),(xgb_test,'test')]\n",
    "model=xgb.train(params,xgb_train,num_rounds,watchlist)"
   ]
  },
  {
   "cell_type": "code",
   "execution_count": 41,
   "id": "b40f2b6a",
   "metadata": {},
   "outputs": [
    {
     "data": {
      "image/png": "[encoded data removed]",
      "text/plain": [
       "<Figure size 640x480 with 1 Axes>"
      ]
     },
     "metadata": {},
     "output_type": "display_data"
    }
   ],
   "source": [
    "plot_importance(model)\n",
    "plt.show()"
   ]
  },
  {
   "cell_type": "markdown",
   "id": "78446c19",
   "metadata": {},
   "source": [
    "### **4. check performance**<a class=\"anchor\" id=\"4\"></a>\n",
    "[Table of Contents](#0.1)"
   ]
  },
  {
   "cell_type": "code",
   "execution_count": 43,
   "id": "6d00c71f",
   "metadata": {},
   "outputs": [
    {
     "data": {
      "text/plain": [
       "array([ 75.19464 ,  72.53297 ,  76.29952 ,  90.95979 ,  75.46485 ,\n",
       "        87.36951 ,  77.96897 ,  45.917053,  85.645874,  82.01125 ,\n",
       "        70.31575 ,  63.980347,  52.17797 ,  50.18816 ,  88.11809 ,\n",
       "        73.8902  ,  89.49256 , 100.48458 ,  43.63549 ,  67.10887 ,\n",
       "        74.506065,  65.80147 ,  88.37702 ,  40.575806,  67.95959 ,\n",
       "        95.99494 ,  68.814606,  46.85112 ,  76.97196 ,  80.6821  ,\n",
       "        56.915977,  92.44961 ,  78.38244 ,  94.22012 , 101.15728 ,\n",
       "        67.6343  ,  96.46031 , 103.587036,  80.21997 ,  63.461235,\n",
       "        73.05976 ,  73.113785,  92.03264 ,  57.06444 , 102.9124  ,\n",
       "        62.33329 ,  38.42173 ,  74.20483 ,  61.542717,  83.575485,\n",
       "        88.912285,  46.587563,  91.44322 ,  91.52987 ,  37.52625 ],\n",
       "      dtype=float32)"
      ]
     },
     "execution_count": 43,
     "metadata": {},
     "output_type": "execute_result"
    }
   ],
   "source": [
    "test_predicted=model.predict(xgb_test)\n",
    "test_predicted"
   ]
  },
  {
   "cell_type": "markdown",
   "id": "ffc12037",
   "metadata": {},
   "source": [
    "#### 4.1 R2 score"
   ]
  },
  {
   "cell_type": "code",
   "execution_count": 44,
   "id": "d3f099f1",
   "metadata": {},
   "outputs": [
    {
     "data": {
      "text/plain": [
       "0.9218370052362429"
      ]
     },
     "execution_count": 44,
     "metadata": {},
     "output_type": "execute_result"
    }
   ],
   "source": [
    "from sklearn.metrics import r2_score\n",
    "r2_score(test_predicted, y_test)"
   ]
  },
  {
   "cell_type": "markdown",
   "id": "ed68dfd9",
   "metadata": {},
   "source": [
    "#### 4.2 RMSE score"
   ]
  },
  {
   "cell_type": "code",
   "execution_count": 45,
   "id": "1e4cb5ad",
   "metadata": {},
   "outputs": [
    {
     "data": {
      "text/plain": [
       "4.894456126019541"
      ]
     },
     "execution_count": 45,
     "metadata": {},
     "output_type": "execute_result"
    }
   ],
   "source": [
    "from sklearn.metrics import mean_squared_error\n",
    "np.sqrt(mean_squared_error(test_predicted, y_test))"
   ]
  },
  {
   "cell_type": "markdown",
   "id": "43c89dec",
   "metadata": {},
   "source": [
    "#### 4.3 MSE score"
   ]
  },
  {
   "cell_type": "code",
   "execution_count": 46,
   "id": "98509e73",
   "metadata": {},
   "outputs": [
    {
     "data": {
      "text/plain": [
       "23.955700769530218"
      ]
     },
     "execution_count": 46,
     "metadata": {},
     "output_type": "execute_result"
    }
   ],
   "source": [
    "mean_squared_error(test_predicted, y_test)"
   ]
  },
  {
   "cell_type": "code",
   "execution_count": null,
   "id": "96ac1f27",
   "metadata": {},
   "outputs": [],
   "source": []
  }
 ],
 "metadata": {
  "kernelspec": {
   "display_name": "demo",
   "language": "python",
   "name": "demo"
  },
  "language_info": {
   "codemirror_mode": {
    "name": "ipython",
    "version": 3
   },
   "file_extension": ".py",
   "mimetype": "text/x-python",
   "name": "python",
   "nbconvert_exporter": "python",
   "pygments_lexer": "ipython3",
   "version": "3.9.13"
  }
 },
 "nbformat": 4,
 "nbformat_minor": 5
}
